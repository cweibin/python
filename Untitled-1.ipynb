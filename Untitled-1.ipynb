{
 "cells": [
  {
   "cell_type": "code",
   "execution_count": 2,
   "metadata": {},
   "outputs": [
    {
     "name": "stdout",
     "output_type": "stream",
     "text": [
      "1\n",
      "2\n",
      "3\n",
      "4\n",
      "5\n"
     ]
    }
   ],
   "source": [
    "# 提供一个数列\n",
    "numbers = [1, 2, 3, 4, 5]\n",
    "\n",
    "# 依次输出每个数字\n",
    "for number in numbers:\n",
    "    print(number)"
   ]
  },
  {
   "cell_type": "code",
   "execution_count": 3,
   "metadata": {},
   "outputs": [
    {
     "name": "stdout",
     "output_type": "stream",
     "text": [
      "[4, 6, 37, 79, 21, 23, 41, 26, 96, 27]\n"
     ]
    }
   ],
   "source": [
    "import random\n",
    "\n",
    "unique_numbers = random.sample(range(1, 100), 10)\n",
    "print(unique_numbers)"
   ]
  },
  {
   "cell_type": "code",
   "execution_count": 15,
   "metadata": {},
   "outputs": [
    {
     "name": "stdout",
     "output_type": "stream",
     "text": [
      "4\n",
      "6\n",
      "37\n",
      "79\n",
      "21\n",
      "23\n",
      "41\n",
      "26\n",
      "96\n",
      "27\n",
      "184\n",
      "186\n"
     ]
    },
    {
     "data": {
      "text/plain": [
       "186"
      ]
     },
     "execution_count": 15,
     "metadata": {},
     "output_type": "execute_result"
    }
   ],
   "source": [
    "# 依次输出每个数字\n",
    "for number in unique_numbers:\n",
    "    print(number)\n",
    "\n",
    "# 100个数求最大值\n",
    "numbers = random.sample(range(0, 201), 10)\n",
    "max_number = numbers[0]\n",
    "for number in numbers:\n",
    "    if number > max_number:\n",
    "        max_number = number\n",
    "        print(max_number)\n",
    "max_number"
   ]
  },
  {
   "cell_type": "code",
   "execution_count": null,
   "metadata": {},
   "outputs": [],
   "source": []
  }
 ],
 "metadata": {
  "kernelspec": {
   "display_name": "Python 3",
   "language": "python",
   "name": "python3"
  },
  "language_info": {
   "codemirror_mode": {
    "name": "ipython",
    "version": 3
   },
   "file_extension": ".py",
   "mimetype": "text/x-python",
   "name": "python",
   "nbconvert_exporter": "python",
   "pygments_lexer": "ipython3",
   "version": "3.9.6"
  }
 },
 "nbformat": 4,
 "nbformat_minor": 2
}
